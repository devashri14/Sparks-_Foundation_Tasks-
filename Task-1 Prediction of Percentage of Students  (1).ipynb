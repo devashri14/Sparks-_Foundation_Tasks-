{
 "cells": [
  {
   "cell_type": "markdown",
   "id": "23dca0ec",
   "metadata": {},
   "source": [
    "**Importing Libraries**\n"
   ]
  },
  {
   "cell_type": "code",
   "execution_count": 1,
   "id": "9ff7ed59",
   "metadata": {},
   "outputs": [],
   "source": [
    "import numpy as np\n",
    "import pandas as pd\n",
    "import matplotlib.pyplot as plt"
   ]
  },
  {
   "cell_type": "markdown",
   "id": "094b3930",
   "metadata": {},
   "source": [
    "**Reading the dataset**"
   ]
  },
  {
   "cell_type": "code",
   "execution_count": 2,
   "id": "c44fd96b",
   "metadata": {},
   "outputs": [],
   "source": [
    "#importing the dataset\n",
    "df=pd.read_csv('C:\\\\Users\\\\devas\\\\OneDrive\\\\Desktop\\\\Student_scores.csv')"
   ]
  },
  {
   "cell_type": "markdown",
   "id": "b1bc5df6",
   "metadata": {},
   "source": [
    "**Showing the dataset**"
   ]
  },
  {
   "cell_type": "code",
   "execution_count": 4,
   "id": "3fdfa60c",
   "metadata": {},
   "outputs": [
    {
     "data": {
      "text/html": [
       "<div>\n",
       "<style scoped>\n",
       "    .dataframe tbody tr th:only-of-type {\n",
       "        vertical-align: middle;\n",
       "    }\n",
       "\n",
       "    .dataframe tbody tr th {\n",
       "        vertical-align: top;\n",
       "    }\n",
       "\n",
       "    .dataframe thead th {\n",
       "        text-align: right;\n",
       "    }\n",
       "</style>\n",
       "<table border=\"1\" class=\"dataframe\">\n",
       "  <thead>\n",
       "    <tr style=\"text-align: right;\">\n",
       "      <th></th>\n",
       "      <th>Hours</th>\n",
       "      <th>Scores</th>\n",
       "    </tr>\n",
       "  </thead>\n",
       "  <tbody>\n",
       "    <tr>\n",
       "      <th>0</th>\n",
       "      <td>2.5</td>\n",
       "      <td>21</td>\n",
       "    </tr>\n",
       "    <tr>\n",
       "      <th>1</th>\n",
       "      <td>5.1</td>\n",
       "      <td>47</td>\n",
       "    </tr>\n",
       "    <tr>\n",
       "      <th>2</th>\n",
       "      <td>3.2</td>\n",
       "      <td>27</td>\n",
       "    </tr>\n",
       "    <tr>\n",
       "      <th>3</th>\n",
       "      <td>8.5</td>\n",
       "      <td>75</td>\n",
       "    </tr>\n",
       "    <tr>\n",
       "      <th>4</th>\n",
       "      <td>3.5</td>\n",
       "      <td>30</td>\n",
       "    </tr>\n",
       "    <tr>\n",
       "      <th>5</th>\n",
       "      <td>1.5</td>\n",
       "      <td>20</td>\n",
       "    </tr>\n",
       "    <tr>\n",
       "      <th>6</th>\n",
       "      <td>9.2</td>\n",
       "      <td>88</td>\n",
       "    </tr>\n",
       "    <tr>\n",
       "      <th>7</th>\n",
       "      <td>5.5</td>\n",
       "      <td>60</td>\n",
       "    </tr>\n",
       "    <tr>\n",
       "      <th>8</th>\n",
       "      <td>8.3</td>\n",
       "      <td>81</td>\n",
       "    </tr>\n",
       "    <tr>\n",
       "      <th>9</th>\n",
       "      <td>2.7</td>\n",
       "      <td>25</td>\n",
       "    </tr>\n",
       "  </tbody>\n",
       "</table>\n",
       "</div>"
      ],
      "text/plain": [
       "   Hours  Scores\n",
       "0    2.5      21\n",
       "1    5.1      47\n",
       "2    3.2      27\n",
       "3    8.5      75\n",
       "4    3.5      30\n",
       "5    1.5      20\n",
       "6    9.2      88\n",
       "7    5.5      60\n",
       "8    8.3      81\n",
       "9    2.7      25"
      ]
     },
     "execution_count": 4,
     "metadata": {},
     "output_type": "execute_result"
    }
   ],
   "source": [
    "#printing the first ten values\n",
    "df.head(10)"
   ]
  },
  {
   "cell_type": "code",
   "execution_count": 5,
   "id": "27f4f628",
   "metadata": {},
   "outputs": [
    {
     "data": {
      "text/html": [
       "<div>\n",
       "<style scoped>\n",
       "    .dataframe tbody tr th:only-of-type {\n",
       "        vertical-align: middle;\n",
       "    }\n",
       "\n",
       "    .dataframe tbody tr th {\n",
       "        vertical-align: top;\n",
       "    }\n",
       "\n",
       "    .dataframe thead th {\n",
       "        text-align: right;\n",
       "    }\n",
       "</style>\n",
       "<table border=\"1\" class=\"dataframe\">\n",
       "  <thead>\n",
       "    <tr style=\"text-align: right;\">\n",
       "      <th></th>\n",
       "      <th>Hours</th>\n",
       "      <th>Scores</th>\n",
       "    </tr>\n",
       "  </thead>\n",
       "  <tbody>\n",
       "    <tr>\n",
       "      <th>count</th>\n",
       "      <td>25.000000</td>\n",
       "      <td>25.000000</td>\n",
       "    </tr>\n",
       "    <tr>\n",
       "      <th>mean</th>\n",
       "      <td>5.012000</td>\n",
       "      <td>51.480000</td>\n",
       "    </tr>\n",
       "    <tr>\n",
       "      <th>std</th>\n",
       "      <td>2.525094</td>\n",
       "      <td>25.286887</td>\n",
       "    </tr>\n",
       "    <tr>\n",
       "      <th>min</th>\n",
       "      <td>1.100000</td>\n",
       "      <td>17.000000</td>\n",
       "    </tr>\n",
       "    <tr>\n",
       "      <th>25%</th>\n",
       "      <td>2.700000</td>\n",
       "      <td>30.000000</td>\n",
       "    </tr>\n",
       "    <tr>\n",
       "      <th>50%</th>\n",
       "      <td>4.800000</td>\n",
       "      <td>47.000000</td>\n",
       "    </tr>\n",
       "    <tr>\n",
       "      <th>75%</th>\n",
       "      <td>7.400000</td>\n",
       "      <td>75.000000</td>\n",
       "    </tr>\n",
       "    <tr>\n",
       "      <th>max</th>\n",
       "      <td>9.200000</td>\n",
       "      <td>95.000000</td>\n",
       "    </tr>\n",
       "  </tbody>\n",
       "</table>\n",
       "</div>"
      ],
      "text/plain": [
       "           Hours     Scores\n",
       "count  25.000000  25.000000\n",
       "mean    5.012000  51.480000\n",
       "std     2.525094  25.286887\n",
       "min     1.100000  17.000000\n",
       "25%     2.700000  30.000000\n",
       "50%     4.800000  47.000000\n",
       "75%     7.400000  75.000000\n",
       "max     9.200000  95.000000"
      ]
     },
     "execution_count": 5,
     "metadata": {},
     "output_type": "execute_result"
    }
   ],
   "source": [
    "#describing the various quartiles and min and max values\n",
    "df.describe()"
   ]
  },
  {
   "cell_type": "code",
   "execution_count": 9,
   "id": "bc75529a",
   "metadata": {},
   "outputs": [
    {
     "name": "stdout",
     "output_type": "stream",
     "text": [
      "<class 'pandas.core.frame.DataFrame'>\n",
      "RangeIndex: 25 entries, 0 to 24\n",
      "Data columns (total 2 columns):\n",
      " #   Column  Non-Null Count  Dtype  \n",
      "---  ------  --------------  -----  \n",
      " 0   Hours   25 non-null     float64\n",
      " 1   Scores  25 non-null     int64  \n",
      "dtypes: float64(1), int64(1)\n",
      "memory usage: 528.0 bytes\n"
     ]
    }
   ],
   "source": [
    "#finding for null values and tyoe of values present in the dataset\n",
    "df.info()"
   ]
  },
  {
   "cell_type": "markdown",
   "id": "67c8ebbe",
   "metadata": {},
   "source": [
    "**Plotting the graph of the datapoints**"
   ]
  },
  {
   "cell_type": "code",
   "execution_count": 102,
   "id": "7cc5ea39",
   "metadata": {},
   "outputs": [
    {
     "data": {
      "image/png": "[encoded data removed]",
      "text/plain": [
       "<Figure size 432x288 with 1 Axes>"
      ]
     },
     "metadata": {
      "needs_background": "light"
     },
     "output_type": "display_data"
    }
   ],
   "source": [
    "#plotting the graph of study hours v/s scores\n",
    "plt.scatter(x=df['Hours'],y=df['Scores'],color='orange')\n",
    "plt.xlabel('No of Hours')\n",
    "plt.ylabel('Percentage of Scores')\n",
    "plt.title('Percentage of Scores v/s No of Hours')\n",
    "plt.show()"
   ]
  },
  {
   "cell_type": "markdown",
   "id": "48d523af",
   "metadata": {},
   "source": [
    "**Splitting the dataset into independent and dependent variables**"
   ]
  },
  {
   "cell_type": "code",
   "execution_count": 40,
   "id": "a057298f",
   "metadata": {},
   "outputs": [
    {
     "data": {
      "text/plain": [
       "array([21, 47, 27, 75, 30, 20, 88, 60, 81, 25, 85, 62, 41, 42, 17, 95, 30,\n",
       "       24, 67, 69, 30, 54, 35, 76, 86], dtype=int64)"
      ]
     },
     "execution_count": 40,
     "metadata": {},
     "output_type": "execute_result"
    }
   ],
   "source": [
    "#splitting the dataset into dependent and independent variables\n",
    "x=df.iloc[:,:-1].values #dependent variable\n",
    "y=df.iloc[:,1].values #independent variable\n",
    "x\n",
    "y"
   ]
  },
  {
   "cell_type": "code",
   "execution_count": 41,
   "id": "1ff40e8c",
   "metadata": {},
   "outputs": [],
   "source": [
    "#importing the required sklearn libraries\n",
    "from sklearn.linear_model import LinearRegression\n",
    "from sklearn.metrics import r2_score,mean_squared_error"
   ]
  },
  {
   "cell_type": "markdown",
   "id": "b5eae778",
   "metadata": {},
   "source": [
    "**Splitting into training and testing dataset**"
   ]
  },
  {
   "cell_type": "code",
   "execution_count": 42,
   "id": "a3e5a1a8",
   "metadata": {},
   "outputs": [],
   "source": [
    "#splitting the dataset into training set and testing set\n",
    "from sklearn.model_selection import train_test_split\n",
    "x_train,x_test,y_train,y_test=train_test_split(x,y,test_size=0.3,random_state=42)"
   ]
  },
  {
   "cell_type": "code",
   "execution_count": 67,
   "id": "37309f5b",
   "metadata": {},
   "outputs": [
    {
     "data": {
      "text/plain": [
       "array([[3.8],\n",
       "       [1.5],\n",
       "       [3.2],\n",
       "       [4.5],\n",
       "       [8.9],\n",
       "       [8.5],\n",
       "       [3.5],\n",
       "       [2.7],\n",
       "       [1.9],\n",
       "       [4.8],\n",
       "       [6.1],\n",
       "       [7.8],\n",
       "       [5.5],\n",
       "       [7.7],\n",
       "       [1.1],\n",
       "       [7.4],\n",
       "       [9.2]])"
      ]
     },
     "execution_count": 67,
     "metadata": {},
     "output_type": "execute_result"
    }
   ],
   "source": [
    "#printing the training and testing datasets\n",
    "x_train=x_train.reshape(-1,1)\n",
    "x_train"
   ]
  },
  {
   "cell_type": "code",
   "execution_count": 68,
   "id": "c35f6df0",
   "metadata": {},
   "outputs": [
    {
     "data": {
      "text/plain": [
       "array([[8.3],\n",
       "       [2.5],\n",
       "       [2.5],\n",
       "       [6.9],\n",
       "       [5.9],\n",
       "       [2.7],\n",
       "       [3.3],\n",
       "       [5.1]])"
      ]
     },
     "execution_count": 68,
     "metadata": {},
     "output_type": "execute_result"
    }
   ],
   "source": [
    "x_test=x_test.reshape(-1,1)\n",
    "x_test"
   ]
  },
  {
   "cell_type": "code",
   "execution_count": 69,
   "id": "3529741d",
   "metadata": {},
   "outputs": [
    {
     "data": {
      "text/plain": [
       "array([35, 20, 27, 41, 95, 75, 30, 30, 24, 54, 67, 86, 60, 85, 17, 69, 88],\n",
       "      dtype=int64)"
      ]
     },
     "execution_count": 69,
     "metadata": {},
     "output_type": "execute_result"
    }
   ],
   "source": [
    "y_train"
   ]
  },
  {
   "cell_type": "code",
   "execution_count": 70,
   "id": "1ec27a96",
   "metadata": {},
   "outputs": [
    {
     "data": {
      "text/plain": [
       "array([81, 30, 21, 76, 62, 25, 42, 47], dtype=int64)"
      ]
     },
     "execution_count": 70,
     "metadata": {},
     "output_type": "execute_result"
    }
   ],
   "source": [
    "y_test"
   ]
  },
  {
   "cell_type": "markdown",
   "id": "4879e453",
   "metadata": {},
   "source": [
    "**Building the Linear Regression Model**"
   ]
  },
  {
   "cell_type": "code",
   "execution_count": 71,
   "id": "59187f68",
   "metadata": {},
   "outputs": [
    {
     "name": "stdout",
     "output_type": "stream",
     "text": [
      "Model has been trained!!!\n"
     ]
    }
   ],
   "source": [
    "#model building\n",
    "lr=LinearRegression() \n",
    "lr.fit(x_train,y_train)\n",
    "print('Model has been trained!!!')"
   ]
  },
  {
   "cell_type": "markdown",
   "id": "b64c2733",
   "metadata": {},
   "source": [
    "**Printing the co-efficient and intercept**"
   ]
  },
  {
   "cell_type": "code",
   "execution_count": 72,
   "id": "daf813bd",
   "metadata": {},
   "outputs": [
    {
     "name": "stdout",
     "output_type": "stream",
     "text": [
      "Co-efficient= [9.71054094]\n",
      "Intercept= 2.794196676599803\n"
     ]
    }
   ],
   "source": [
    "#printing the coeffienct and intercept\n",
    "coef=lr.coef_\n",
    "inter=lr.intercept_\n",
    "print('Co-efficient=',coef)\n",
    "print('Intercept=',inter)"
   ]
  },
  {
   "cell_type": "markdown",
   "id": "7fc1b60a",
   "metadata": {},
   "source": [
    "**Plotting the Regression Model**"
   ]
  },
  {
   "cell_type": "code",
   "execution_count": 73,
   "id": "63ee1611",
   "metadata": {},
   "outputs": [
    {
     "data": {
      "image/png": "[encoded data removed]",
      "text/plain": [
       "<Figure size 432x288 with 1 Axes>"
      ]
     },
     "metadata": {
      "needs_background": "light"
     },
     "output_type": "display_data"
    }
   ],
   "source": [
    "#plotting the regression model\n",
    "score=coef*x+inter\n",
    "plt.scatter(x,y)\n",
    "plt.plot(x,score)\n",
    "plt.xlabel('No of hours studied')\n",
    "plt.ylabel('Score')\n",
    "plt.title('Regression Plot')\n",
    "plt.show()"
   ]
  },
  {
   "cell_type": "markdown",
   "id": "dc89b45f",
   "metadata": {},
   "source": [
    "**Predicting the values**"
   ]
  },
  {
   "cell_type": "code",
   "execution_count": 74,
   "id": "fc837c72",
   "metadata": {},
   "outputs": [
    {
     "data": {
      "text/plain": [
       "array([83.39168645, 27.07054902, 27.07054902, 69.79692914, 60.0863882 ,\n",
       "       29.0126572 , 34.83898177, 52.31795545])"
      ]
     },
     "execution_count": 74,
     "metadata": {},
     "output_type": "execute_result"
    }
   ],
   "source": [
    "#Predicting the values\n",
    "y_pred=lr.predict(x_test)\n",
    "y_pred"
   ]
  },
  {
   "cell_type": "code",
   "execution_count": 75,
   "id": "d7b2963e",
   "metadata": {},
   "outputs": [
    {
     "name": "stdout",
     "output_type": "stream",
     "text": [
      "Actual Values [81 30 21 76 62 25 42 47]\n",
      "Predicted Values [83.39168645 27.07054902 27.07054902 69.79692914 60.0863882  29.0126572\n",
      " 34.83898177 52.31795545]\n"
     ]
    }
   ],
   "source": [
    "#comparing the actual and predicted values\n",
    "print('Actual Values',y_test)\n",
    "print('Predicted Values',y_pred)"
   ]
  },
  {
   "cell_type": "markdown",
   "id": "71f8a563",
   "metadata": {},
   "source": [
    "**Evaluating the performance of the model and checking the R-Square Value**"
   ]
  },
  {
   "cell_type": "code",
   "execution_count": 95,
   "id": "80e33c9a",
   "metadata": {},
   "outputs": [
    {
     "name": "stdout",
     "output_type": "stream",
     "text": [
      "R2 Score= 0.9487647340257012\n",
      "Mean Squared Error Score= 23.61945761415174\n",
      "Root Mean Squared Error Score= 4.859985351228103\n"
     ]
    }
   ],
   "source": [
    "#Evaluating the model performance\n",
    "r2=r2_score(y_test,y_pred)\n",
    "mse=mean_squared_error(y_test,y_pred)\n",
    "rmse=np.sqrt(mse)\n",
    "print('R2 Score=',r2)\n",
    "print('Mean Squared Error Score=',mse)\n",
    "print('Root Mean Squared Error Score=',rmse)"
   ]
  },
  {
   "cell_type": "markdown",
   "id": "f7b71f36",
   "metadata": {},
   "source": [
    "**Predicting the Score with given no of hours**"
   ]
  },
  {
   "cell_type": "code",
   "execution_count": 94,
   "id": "4499a104",
   "metadata": {},
   "outputs": [
    {
     "name": "stdout",
     "output_type": "stream",
     "text": [
      "No of hours= 9.25\n",
      "The predicted score= 92.61670033840096\n"
     ]
    }
   ],
   "source": [
    "#Predicting the score with our own value that is given\n",
    "hours=[[9.25]]\n",
    "pred1=lr.predict(hours)\n",
    "print('No of hours=',hours[0][0])\n",
    "print('The predicted score=',pred1[0])"
   ]
  }
 ],
 "metadata": {
  "kernelspec": {
   "display_name": "Python 3",
   "language": "python",
   "name": "python3"
  },
  "language_info": {
   "codemirror_mode": {
    "name": "ipython",
    "version": 3
   },
   "file_extension": ".py",
   "mimetype": "text/x-python",
   "name": "python",
   "nbconvert_exporter": "python",
   "pygments_lexer": "ipython3",
   "version": "3.8.8"
  }
 },
 "nbformat": 4,
 "nbformat_minor": 5
}
