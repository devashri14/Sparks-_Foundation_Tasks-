{
 "cells": [
  {
   "cell_type": "markdown",
   "id": "5d8632a2",
   "metadata": {},
   "source": [
    "## Unsupervised Learning Model"
   ]
  },
  {
   "cell_type": "markdown",
   "id": "b4a21628",
   "metadata": {},
   "source": [
    "## Task-2 Predicting optimum number of clusters for IRIS Dataset"
   ]
  },
  {
   "cell_type": "markdown",
   "id": "233f380c",
   "metadata": {},
   "source": [
    "**Importing the required libraries and dataset**"
   ]
  },
  {
   "cell_type": "code",
   "execution_count": 48,
   "id": "6e4b08c8",
   "metadata": {},
   "outputs": [
    {
     "data": {
      "text/html": [
       "<div>\n",
       "<style scoped>\n",
       "    .dataframe tbody tr th:only-of-type {\n",
       "        vertical-align: middle;\n",
       "    }\n",
       "\n",
       "    .dataframe tbody tr th {\n",
       "        vertical-align: top;\n",
       "    }\n",
       "\n",
       "    .dataframe thead th {\n",
       "        text-align: right;\n",
       "    }\n",
       "</style>\n",
       "<table border=\"1\" class=\"dataframe\">\n",
       "  <thead>\n",
       "    <tr style=\"text-align: right;\">\n",
       "      <th></th>\n",
       "      <th>sepal length (cm)</th>\n",
       "      <th>sepal width (cm)</th>\n",
       "      <th>petal length (cm)</th>\n",
       "      <th>petal width (cm)</th>\n",
       "    </tr>\n",
       "  </thead>\n",
       "  <tbody>\n",
       "    <tr>\n",
       "      <th>0</th>\n",
       "      <td>5.1</td>\n",
       "      <td>3.5</td>\n",
       "      <td>1.4</td>\n",
       "      <td>0.2</td>\n",
       "    </tr>\n",
       "    <tr>\n",
       "      <th>1</th>\n",
       "      <td>4.9</td>\n",
       "      <td>3.0</td>\n",
       "      <td>1.4</td>\n",
       "      <td>0.2</td>\n",
       "    </tr>\n",
       "    <tr>\n",
       "      <th>2</th>\n",
       "      <td>4.7</td>\n",
       "      <td>3.2</td>\n",
       "      <td>1.3</td>\n",
       "      <td>0.2</td>\n",
       "    </tr>\n",
       "    <tr>\n",
       "      <th>3</th>\n",
       "      <td>4.6</td>\n",
       "      <td>3.1</td>\n",
       "      <td>1.5</td>\n",
       "      <td>0.2</td>\n",
       "    </tr>\n",
       "    <tr>\n",
       "      <th>4</th>\n",
       "      <td>5.0</td>\n",
       "      <td>3.6</td>\n",
       "      <td>1.4</td>\n",
       "      <td>0.2</td>\n",
       "    </tr>\n",
       "    <tr>\n",
       "      <th>5</th>\n",
       "      <td>5.4</td>\n",
       "      <td>3.9</td>\n",
       "      <td>1.7</td>\n",
       "      <td>0.4</td>\n",
       "    </tr>\n",
       "    <tr>\n",
       "      <th>6</th>\n",
       "      <td>4.6</td>\n",
       "      <td>3.4</td>\n",
       "      <td>1.4</td>\n",
       "      <td>0.3</td>\n",
       "    </tr>\n",
       "    <tr>\n",
       "      <th>7</th>\n",
       "      <td>5.0</td>\n",
       "      <td>3.4</td>\n",
       "      <td>1.5</td>\n",
       "      <td>0.2</td>\n",
       "    </tr>\n",
       "    <tr>\n",
       "      <th>8</th>\n",
       "      <td>4.4</td>\n",
       "      <td>2.9</td>\n",
       "      <td>1.4</td>\n",
       "      <td>0.2</td>\n",
       "    </tr>\n",
       "    <tr>\n",
       "      <th>9</th>\n",
       "      <td>4.9</td>\n",
       "      <td>3.1</td>\n",
       "      <td>1.5</td>\n",
       "      <td>0.1</td>\n",
       "    </tr>\n",
       "  </tbody>\n",
       "</table>\n",
       "</div>"
      ],
      "text/plain": [
       "   sepal length (cm)  sepal width (cm)  petal length (cm)  petal width (cm)\n",
       "0                5.1               3.5                1.4               0.2\n",
       "1                4.9               3.0                1.4               0.2\n",
       "2                4.7               3.2                1.3               0.2\n",
       "3                4.6               3.1                1.5               0.2\n",
       "4                5.0               3.6                1.4               0.2\n",
       "5                5.4               3.9                1.7               0.4\n",
       "6                4.6               3.4                1.4               0.3\n",
       "7                5.0               3.4                1.5               0.2\n",
       "8                4.4               2.9                1.4               0.2\n",
       "9                4.9               3.1                1.5               0.1"
      ]
     },
     "execution_count": 48,
     "metadata": {},
     "output_type": "execute_result"
    }
   ],
   "source": [
    "#importing the libraries\n",
    "import numpy as np\n",
    "import pandas as pd\n",
    "import matplotlib.pyplot as plt\n",
    "import seaborn as sb\n",
    "\n",
    "#importing the dataset\n",
    "from sklearn.datasets import load_iris\n",
    "iris=load_iris()\n",
    "df=pd.DataFrame(iris.data,columns=iris.feature_names)\n",
    "df.head(10)"
   ]
  },
  {
   "cell_type": "markdown",
   "id": "c8598380",
   "metadata": {},
   "source": [
    " **Finding the optimum number of clusters**"
   ]
  },
  {
   "cell_type": "markdown",
   "id": "889ae804",
   "metadata": {},
   "source": [
    "**Importing KMeans Clustering from sklearn**"
   ]
  },
  {
   "cell_type": "code",
   "execution_count": 49,
   "id": "b45f2c81",
   "metadata": {},
   "outputs": [
    {
     "name": "stderr",
     "output_type": "stream",
     "text": [
      "C:\\Users\\devas\\anaconda3\\lib\\site-packages\\sklearn\\cluster\\_kmeans.py:881: UserWarning: KMeans is known to have a memory leak on Windows with MKL, when there are less chunks than available threads. You can avoid it by setting the environment variable OMP_NUM_THREADS=1.\n",
      "  warnings.warn(\n"
     ]
    },
    {
     "name": "stdout",
     "output_type": "stream",
     "text": [
      "[681.3705999999996, 152.34795176035797, 78.851441426146, 57.25552380952379, 46.44618205128204, 39.03998724608725, 34.42019178628389, 30.598185064935077, 28.298658730158742, 26.073173217133757]\n"
     ]
    }
   ],
   "source": [
    "#Finding optimum value of k\n",
    "from sklearn.cluster import KMeans\n",
    "k_inertia=[]\n",
    "for i in range(1,11):\n",
    "    kmc=KMeans(n_clusters=i,random_state=44,init='k-means++',n_init=10,max_iter=300)\n",
    "    kmc.fit(x)\n",
    "    k_inertia.append(kmc.inertia_)\n",
    "print(k_inertia)"
   ]
  },
  {
   "cell_type": "markdown",
   "id": "4c73759b",
   "metadata": {},
   "source": [
    "**Plotting the Inertia v/s the k value using the ELBOW METHOD**"
   ]
  },
  {
   "cell_type": "code",
   "execution_count": 50,
   "id": "121498ac",
   "metadata": {},
   "outputs": [
    {
     "data": {
      "image/png": "[encoded data removed]",
      "text/plain": [
       "<Figure size 432x288 with 1 Axes>"
      ]
     },
     "metadata": {
      "needs_background": "light"
     },
     "output_type": "display_data"
    }
   ],
   "source": [
    "#Plotting the ELBOW Curve\n",
    "plt.plot(range(1,11),k_inertia,color='orange',marker='o')\n",
    "plt.title('Inertia v/s K')\n",
    "plt.xlabel('K value')\n",
    "plt.ylabel('Inertia')\n",
    "plt.show()"
   ]
  },
  {
   "cell_type": "markdown",
   "id": "3fabfe97",
   "metadata": {},
   "source": [
    "From the above graph it is clear that since the graph stops changing rapidly at k=3,hence the optimum number of clusters will be 3. Thus, we will have total three clusters in our model."
   ]
  },
  {
   "cell_type": "markdown",
   "id": "b844d538",
   "metadata": {},
   "source": [
    "**Building the model**"
   ]
  },
  {
   "cell_type": "code",
   "execution_count": 51,
   "id": "40e5c513",
   "metadata": {},
   "outputs": [],
   "source": [
    "#Building the model\n",
    "kmc=KMeans(n_clusters=3,max_iter=300,n_init=10,init='k-means++',random_state=44)\n",
    "kmc.fit(x)\n",
    "y_pred=kmc.predict(x)"
   ]
  },
  {
   "cell_type": "markdown",
   "id": "89c184b6",
   "metadata": {},
   "source": [
    "**Predicting the values**"
   ]
  },
  {
   "cell_type": "code",
   "execution_count": 52,
   "id": "ce28fb94",
   "metadata": {},
   "outputs": [
    {
     "data": {
      "text/plain": [
       "array([1, 1, 1, 1, 1, 1, 1, 1, 1, 1, 1, 1, 1, 1, 1, 1, 1, 1, 1, 1, 1, 1,\n",
       "       1, 1, 1, 1, 1, 1, 1, 1, 1, 1, 1, 1, 1, 1, 1, 1, 1, 1, 1, 1, 1, 1,\n",
       "       1, 1, 1, 1, 1, 1, 0, 0, 2, 0, 0, 0, 0, 0, 0, 0, 0, 0, 0, 0, 0, 0,\n",
       "       0, 0, 0, 0, 0, 0, 0, 0, 0, 0, 0, 2, 0, 0, 0, 0, 0, 0, 0, 0, 0, 0,\n",
       "       0, 0, 0, 0, 0, 0, 0, 0, 0, 0, 0, 0, 2, 0, 2, 2, 2, 2, 0, 2, 2, 2,\n",
       "       2, 2, 2, 0, 0, 2, 2, 2, 2, 0, 2, 0, 2, 0, 2, 2, 0, 0, 2, 2, 2, 2,\n",
       "       2, 0, 2, 2, 2, 2, 0, 2, 2, 2, 0, 2, 2, 2, 0, 2, 2, 0])"
      ]
     },
     "execution_count": 52,
     "metadata": {},
     "output_type": "execute_result"
    }
   ],
   "source": [
    "#predicting the values\n",
    "y_pred"
   ]
  },
  {
   "cell_type": "markdown",
   "id": "024110e8",
   "metadata": {},
   "source": [
    "**Finding the centroids**"
   ]
  },
  {
   "cell_type": "code",
   "execution_count": 53,
   "id": "02f28281",
   "metadata": {},
   "outputs": [
    {
     "data": {
      "text/plain": [
       "array([[5.9016129 , 2.7483871 , 4.39354839, 1.43387097],\n",
       "       [5.006     , 3.428     , 1.462     , 0.246     ],\n",
       "       [6.85      , 3.07368421, 5.74210526, 2.07105263]])"
      ]
     },
     "execution_count": 53,
     "metadata": {},
     "output_type": "execute_result"
    }
   ],
   "source": [
    "#Finding the centroids\n",
    "cen=kmc.cluster_centers_\n",
    "cen"
   ]
  },
  {
   "cell_type": "markdown",
   "id": "0b4d422a",
   "metadata": {},
   "source": [
    "**Visualizing the clusters**"
   ]
  },
  {
   "cell_type": "code",
   "execution_count": 54,
   "id": "72903914",
   "metadata": {},
   "outputs": [
    {
     "data": {
      "image/png": "[encoded data removed]",
      "text/plain": [
       "<Figure size 432x288 with 1 Axes>"
      ]
     },
     "metadata": {
      "needs_background": "light"
     },
     "output_type": "display_data"
    }
   ],
   "source": [
    "#visualizing the clusters for sepal length and sepal width\n",
    "\n",
    "plt.scatter(x[y_pred==0,0],x[y_pred==0,1],label='Setosa')\n",
    "plt.scatter(x[y_pred==1,0],x[y_pred==1,1],label='Versicolor')\n",
    "plt.scatter(x[y_pred==2,0],x[y_pred==2,1],label='Virginica')\n",
    "\n",
    "plt.scatter(cen[:,0],cen[:,1],s=120,marker='*',color='Black',label='Centroids')\n",
    "plt.xlabel('Sepal Length(cm)')\n",
    "plt.ylabel('Sepal Width(cm)')\n",
    "plt.legend()\n",
    "plt.show()"
   ]
  },
  {
   "cell_type": "code",
   "execution_count": null,
   "id": "97c45da1",
   "metadata": {},
   "outputs": [],
   "source": []
  }
 ],
 "metadata": {
  "kernelspec": {
   "display_name": "Python 3",
   "language": "python",
   "name": "python3"
  },
  "language_info": {
   "codemirror_mode": {
    "name": "ipython",
    "version": 3
   },
   "file_extension": ".py",
   "mimetype": "text/x-python",
   "name": "python",
   "nbconvert_exporter": "python",
   "pygments_lexer": "ipython3",
   "version": "3.8.8"
  }
 },
 "nbformat": 4,
 "nbformat_minor": 5
}
